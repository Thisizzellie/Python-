{
 "cells": [
  {
   "cell_type": "markdown",
   "metadata": {},
   "source": [
    "A string in Python is a sequence of characters enclosed within single quotes ('), double quotes (\"), triple single quotes ('''), or triple double quotes (\"\"\"). Strings are used to represent text data and are one of the most commonly used data types in Python."
   ]
  },
  {
   "cell_type": "markdown",
   "metadata": {},
   "source": [
    "Basic String Operations\n",
    "\n",
    "Creating Strings\n",
    "\n",
    "You can create strings using different types of quotes:"
   ]
  },
  {
   "cell_type": "code",
   "execution_count": 1,
   "metadata": {},
   "outputs": [],
   "source": [
    "# Single quotes\n",
    "single_quote_string = 'Hello, World!'\n",
    "\n",
    "# Double quotes\n",
    "double_quote_string = \"Hello, World!\"\n",
    "\n",
    "# Triple single quotes\n",
    "triple_single_quote_string = '''This is a multi-line\n",
    "string that spans multiple lines.'''\n",
    "\n",
    "# Triple double quotes\n",
    "triple_double_quote_string = \"\"\"This is also a multi-line\n",
    "string that spans multiple lines.\"\"\"\n"
   ]
  },
  {
   "cell_type": "markdown",
   "metadata": {},
   "source": [
    "Accessing Characters\n",
    "\n",
    "You can access individual characters in a string using indexing. Python uses zero-based indexing:"
   ]
  },
  {
   "cell_type": "code",
   "execution_count": 2,
   "metadata": {},
   "outputs": [
    {
     "name": "stdout",
     "output_type": "stream",
     "text": [
      "H\n",
      "e\n",
      "o\n"
     ]
    }
   ],
   "source": [
    "s = \"Hello\"\n",
    "print(s[0])  # Output: H\n",
    "print(s[1])  # Output: e\n",
    "print(s[-1]) # Output: o (last character)"
   ]
  },
  {
   "cell_type": "markdown",
   "metadata": {},
   "source": [
    "Slicing Strings\n",
    "\n",
    "You can extract substrings using slicing:"
   ]
  },
  {
   "cell_type": "code",
   "execution_count": 3,
   "metadata": {},
   "outputs": [
    {
     "name": "stdout",
     "output_type": "stream",
     "text": [
      "Hello\n",
      "World\n",
      "Hello\n",
      "World!\n",
      "Hello, World!\n"
     ]
    }
   ],
   "source": [
    "s = \"Hello, World!\"\n",
    "print(s[0:5])  # Output: Hello\n",
    "print(s[7:12]) # Output: World\n",
    "print(s[:5])   # Output: Hello (from start to index 5)\n",
    "print(s[7:])   # Output: World! (from index 7 to end)\n",
    "print(s[:])    # Output: Hello, World! (entire string)\n"
   ]
  },
  {
   "cell_type": "markdown",
   "metadata": {},
   "source": [
    "String Length\n",
    "\n",
    "You can find the length of a string using the len() function:"
   ]
  },
  {
   "cell_type": "code",
   "execution_count": 4,
   "metadata": {},
   "outputs": [
    {
     "name": "stdout",
     "output_type": "stream",
     "text": [
      "13\n"
     ]
    }
   ],
   "source": [
    "s = \"Hello, World!\"\n",
    "print(len(s))  # Output: 13\n"
   ]
  },
  {
   "cell_type": "markdown",
   "metadata": {},
   "source": [
    "String Methods\n",
    "\n",
    "Python provides many built-in methods for string manipulation:"
   ]
  },
  {
   "cell_type": "code",
   "execution_count": 5,
   "metadata": {},
   "outputs": [
    {
     "name": "stdout",
     "output_type": "stream",
     "text": [
      "HELLO, WORLD!\n",
      "hello, world!\n",
      "Hello, world!\n",
      "hello, Python!\n",
      "['hello', ' world!']\n",
      "hello, world!\n",
      "False\n",
      "False\n",
      "7\n"
     ]
    }
   ],
   "source": [
    "s = \"hello, world!\"\n",
    "\n",
    "# Convert to uppercase\n",
    "print(s.upper())  # Output: HELLO, WORLD!\n",
    "\n",
    "# Convert to lowercase\n",
    "print(s.lower())  # Output: hello, world!\n",
    "\n",
    "# Capitalize the first letter\n",
    "print(s.capitalize())  # Output: Hello, world!\n",
    "\n",
    "# Replace substrings\n",
    "print(s.replace(\"world\", \"Python\"))  # Output: hello, Python!\n",
    "\n",
    "# Split the string into a list of substrings\n",
    "print(s.split(\",\"))  # Output: ['hello', ' world!']\n",
    "\n",
    "# Strip leading and trailing whitespace\n",
    "s = \"  hello, world!  \"\n",
    "print(s.strip())  # Output: hello, world!\n",
    "\n",
    "# Check if a string starts or ends with a specific substring\n",
    "print(s.startswith(\"hello\"))  # Output: False\n",
    "print(s.endswith(\"!\"))        # Output: True\n",
    "\n",
    "# Find the position of a substring\n",
    "s = \"hello, world!\"\n",
    "print(s.find(\"world\"))  # Output: 7\n"
   ]
  },
  {
   "cell_type": "markdown",
   "metadata": {},
   "source": [
    "String Concatenation and Repetition\n",
    "\n",
    "You can concatenate (link (things) in a chain or serries) strings using the + operator and repeat them using the * operator:"
   ]
  },
  {
   "cell_type": "code",
   "execution_count": 6,
   "metadata": {},
   "outputs": [
    {
     "name": "stdout",
     "output_type": "stream",
     "text": [
      "Hello, World!\n",
      "hahaha\n"
     ]
    }
   ],
   "source": [
    "# Concatenation\n",
    "s1 = \"Hello\"\n",
    "s2 = \"World\"\n",
    "s3 = s1 + \", \" + s2 + \"!\"\n",
    "print(s3)  # Output: Hello, World!\n",
    "\n",
    "# Repetition\n",
    "s = \"ha\"\n",
    "print(s * 3)  # Output: hahaha\n"
   ]
  },
  {
   "cell_type": "markdown",
   "metadata": {},
   "source": [
    "String Formatting\n",
    "\n",
    "Python provides several ways to format strings:\n",
    "\n",
    "Using the format() method"
   ]
  },
  {
   "cell_type": "code",
   "execution_count": 7,
   "metadata": {},
   "outputs": [
    {
     "name": "stdout",
     "output_type": "stream",
     "text": [
      "My name is Alice and I am 30 years old.\n"
     ]
    }
   ],
   "source": [
    "name = \"Alice\"\n",
    "age = 30\n",
    "s = \"My name is {} and I am {} years old.\".format(name, age)\n",
    "print(s)  # Output: My name is Alice and I am 30 years old.\n"
   ]
  },
  {
   "cell_type": "markdown",
   "metadata": {},
   "source": [
    "Using f-strings (formatted string literals)\n",
    "\n",
    "String formatting (is the process of inserting a custom string or variable in predefined text)"
   ]
  },
  {
   "cell_type": "code",
   "execution_count": 8,
   "metadata": {},
   "outputs": [
    {
     "name": "stdout",
     "output_type": "stream",
     "text": [
      "My name is Alice and I am 30 years old.\n"
     ]
    }
   ],
   "source": [
    "name = \"Alice\"\n",
    "age = 30\n",
    "s = f\"My name is {name} and I am {age} years old.\"\n",
    "print(s)  # Output: My name is Alice and I am 30 years old.\n"
   ]
  },
  {
   "cell_type": "markdown",
   "metadata": {},
   "source": [
    "Escape Characters\n",
    "\n",
    "Strings can contain special characters, such as newlines (\\n), tabs (\\t), and others, using escape characters:"
   ]
  },
  {
   "cell_type": "code",
   "execution_count": 9,
   "metadata": {},
   "outputs": [
    {
     "name": "stdout",
     "output_type": "stream",
     "text": [
      "Hello\n",
      "World\n",
      "Hello\tWorld\n"
     ]
    }
   ],
   "source": [
    "s = \"Hello\\nWorld\"\n",
    "print(s)\n",
    "# Output:\n",
    "# Hello\n",
    "# World\n",
    "\n",
    "s = \"Hello\\tWorld\"\n",
    "print(s)  # Output: Hello   World\n"
   ]
  },
  {
   "cell_type": "markdown",
   "metadata": {},
   "source": [
    "In summary, strings are a fundamental data type in Python, used for storing and manipulating text. Python provides a rich set of operations and methods for working with strings, making it easy to perform a wide variety of text-processing tasks."
   ]
  }
 ],
 "metadata": {
  "kernelspec": {
   "display_name": "Python 3",
   "language": "python",
   "name": "python3"
  },
  "language_info": {
   "codemirror_mode": {
    "name": "ipython",
    "version": 3
   },
   "file_extension": ".py",
   "mimetype": "text/x-python",
   "name": "python",
   "nbconvert_exporter": "python",
   "pygments_lexer": "ipython3",
   "version": "3.11.4"
  }
 },
 "nbformat": 4,
 "nbformat_minor": 2
}
