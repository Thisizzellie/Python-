{
 "cells": [
  {
   "cell_type": "markdown",
   "metadata": {},
   "source": [
    "Variables in Python\n",
    "\n",
    "#In Python, variables are created when you assign a value to them. \n",
    "There is no need to declare the variable type explicitly as Python is a dynamically typed language."
   ]
  },
  {
   "cell_type": "code",
   "execution_count": null,
   "metadata": {},
   "outputs": [],
   "source": [
    "# Declaring and initializing variables\n",
    "name = \"Alice\"        # String variable\n",
    "age = 30              # Integer variable\n",
    "height = 5.7          # Float variable\n",
    "is_student = True     # Boolean variable\n",
    "\n",
    "# Using variables\n",
    "print(name)           # Output: Alice\n",
    "print(age)            # Output: 30\n",
    "print(height)         # Output: 5.7\n",
    "print(is_student)     # Output: True"
   ]
  },
  {
   "cell_type": "markdown",
   "metadata": {},
   "source": [
    "Variable Naming Conventions\n",
    "\n",
    "#Variable names should start with a letter (a-z, A-Z) or an underscore (_).\n",
    "The rest of the name can contain letters, numbers (0-9), and underscores.\n",
    "Variable names are case-sensitive (e.g., name and Name are different variables).\n",
    "Examples of valid variable names:"
   ]
  },
  {
   "cell_type": "code",
   "execution_count": null,
   "metadata": {},
   "outputs": [],
   "source": [
    "first_name = \"Alice\"\n",
    "age1 = 25\n",
    "_height = 5.4\n",
    "firstName = \"Bob\""
   ]
  },
  {
   "cell_type": "markdown",
   "metadata": {},
   "source": [
    "Changing Variable Values\n",
    "\n",
    "#You can change the value of a variable simply by assigning a new value to it."
   ]
  },
  {
   "cell_type": "code",
   "execution_count": null,
   "metadata": {
    "tags": [
     "parameters"
    ]
   },
   "outputs": [],
   "source": [
    "age = 25\n",
    "print(age)    # Output: 25\n",
    "\n",
    "age = 30\n",
    "print(age)    # Output: 30"
   ]
  },
  {
   "cell_type": "markdown",
   "metadata": {},
   "source": [
    "Multiple Assignments\n",
    "\n",
    "#Python allows you to assign values to multiple variables in one line."
   ]
  },
  {
   "cell_type": "markdown",
   "metadata": {},
   "source": [
    "x, y, z = 1, 2, 3\n",
    "print(x)    # Output: 1\n",
    "print(y)    # Output: 2\n",
    "print(z)    # Output: 3"
   ]
  },
  {
   "cell_type": "markdown",
   "metadata": {},
   "source": [
    "You can also assign the same value to multiple variables in one line."
   ]
  },
  {
   "cell_type": "code",
   "execution_count": null,
   "metadata": {},
   "outputs": [],
   "source": [
    "a = b = c = 10\n",
    "print(a)    # Output: 10\n",
    "print(b)    # Output: 10\n",
    "print(c)    # Output: 10"
   ]
  },
  {
   "cell_type": "markdown",
   "metadata": {},
   "source": [
    "Example Program\n",
    "\n",
    "Here's a simple example program that demonstrates the use of variables in Python:"
   ]
  },
  {
   "cell_type": "code",
   "execution_count": 1,
   "metadata": {},
   "outputs": [
    {
     "name": "stdout",
     "output_type": "stream",
     "text": [
      "Name: Alice\n",
      "Age: 30\n",
      "Height: 5.7\n",
      "Is a student: False\n",
      "Updated Age: 31\n",
      "Updated Student Status: True\n"
     ]
    }
   ],
   "source": [
    "# Variables for storing personal information\n",
    "name = \"Alice\"\n",
    "age = 30\n",
    "height = 5.7\n",
    "is_student = False\n",
    "\n",
    "# Print personal information\n",
    "print(\"Name:\", name)\n",
    "print(\"Age:\", age)\n",
    "print(\"Height:\", height)\n",
    "print(\"Is a student:\", is_student)\n",
    "\n",
    "# Update the age and student status\n",
    "age = 31\n",
    "is_student = True\n",
    "\n",
    "# Print updated personal information\n",
    "print(\"Updated Age:\", age)\n",
    "print(\"Updated Student Status:\", is_student)\n"
   ]
  },
  {
   "cell_type": "markdown",
   "metadata": {},
   "source": [
    "Output: \n"
   ]
  },
  {
   "cell_type": "code",
   "execution_count": null,
   "metadata": {},
   "outputs": [],
   "source": [
    "Name: Alice\n",
    "Age: 30\n",
    "Height: 5.7\n",
    "Is a student: False\n",
    "Updated Age: 31\n",
    "Updated Student Status: True"
   ]
  },
  {
   "cell_type": "markdown",
   "metadata": {},
   "source": [
    "Scope of Variables\n",
    "\n",
    "Variables can have different scopes, meaning where in the code they are accessible.\n",
    "\n",
    "Local Variables\n",
    "\n",
    "Local variables are declared inside a function and can only be used within that function."
   ]
  },
  {
   "cell_type": "code",
   "execution_count": null,
   "metadata": {},
   "outputs": [],
   "source": [
    "def my_function():\n",
    "    local_var = \"I'm a local variable\"\n",
    "    print(local_var)\n",
    "\n",
    "my_function()\n",
    "# print(local_var)  # This would raise an error as local_var is not accessible here\n"
   ]
  },
  {
   "cell_type": "markdown",
   "metadata": {},
   "source": [
    "Global Variables\n",
    "\n",
    "Global variables are declared outside of all functions and are accessible throughout the entire program."
   ]
  },
  {
   "cell_type": "code",
   "execution_count": null,
   "metadata": {},
   "outputs": [],
   "source": [
    "global_var = \"I'm a global variable\"\n",
    "\n",
    "def my_function():\n",
    "    print(global_var)\n",
    "\n",
    "my_function()\n",
    "print(global_var)  # This works fine\n"
   ]
  }
 ],
 "metadata": {
  "kernelspec": {
   "display_name": "Python 3",
   "language": "python",
   "name": "python3"
  },
  "language_info": {
   "codemirror_mode": {
    "name": "ipython",
    "version": 3
   },
   "file_extension": ".py",
   "mimetype": "text/x-python",
   "name": "python",
   "nbconvert_exporter": "python",
   "pygments_lexer": "ipython3",
   "version": "3.11.4"
  }
 },
 "nbformat": 4,
 "nbformat_minor": 2
}
