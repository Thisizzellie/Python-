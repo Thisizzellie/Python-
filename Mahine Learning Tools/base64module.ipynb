{
  "nbformat": 4,
  "nbformat_minor": 0,
  "metadata": {
    "colab": {
      "provenance": [],
      "authorship_tag": "ABX9TyP1qSGWgRnXzww3g0GBrXio",
      "include_colab_link": true
    },
    "kernelspec": {
      "name": "python3",
      "display_name": "Python 3"
    },
    "language_info": {
      "name": "python"
    }
  },
  "cells": [
    {
      "cell_type": "markdown",
      "metadata": {
        "id": "view-in-github",
        "colab_type": "text"
      },
      "source": [
        "<a href=\"https://colab.research.google.com/github/Thisizzellie/Python-/blob/main/base64module.ipynb\" target=\"_parent\"><img src=\"https://colab.research.google.com/assets/colab-badge.svg\" alt=\"Open In Colab\"/></a>"
      ]
    },
    {
      "cell_type": "markdown",
      "source": [
        "The base64 module in Python provides functions for encoding binary data(https://www.quanthub.com/what-is-binary-data/) to a base64-encoded string and decoding base64-encoded strings back to binary data. Base64 encoding is commonly used for encoding binary data in contexts where only text is allowed, such as in email messages and URLs.\n",
        "\n",
        "What is encoding and decoding: In computers, encoding is the process of putting a sequence of characters (letters, numbers, punctuation, and certain symbols) into a specialized format for efficient transmission or storage. Decoding is the opposite process -- the conversion of an encoded format back into the original sequence of characters.\n",
        "\n",
        "\n",
        "Here are some key functions and features of the base64 module:\n",
        "\n",
        "Encoding Function:\n",
        "\n",
        "1. 'base64.b64encode(data)': Encodes binary data to a base64-encoded bytes object."
      ],
      "metadata": {
        "id": "0HJF5EPB3RJx"
      }
    },
    {
      "cell_type": "code",
      "source": [
        "import base64\n",
        "data = b'Hello, World!'\n",
        "encoded_data = base64.b64encode(data)\n",
        "print(encoded_data)  # Output: b'SGVsbG8sIFdvcmxkIQ=='"
      ],
      "metadata": {
        "id": "mKdoXa2m3ZEC"
      },
      "execution_count": null,
      "outputs": []
    },
    {
      "cell_type": "markdown",
      "source": [
        "2. base64.urlsafe_b64encode(data): Encodes binary data to a URL-safe base64-encoded bytes object by replacing + with - and / with _."
      ],
      "metadata": {
        "id": "L33Un0eT2khA"
      }
    },
    {
      "cell_type": "code",
      "source": [
        "import base64\n",
        "data = b'Hello, World!'\n",
        "encoded_data = base64.urlsafe_b64encode(data)\n",
        "print(encoded_data)  # Output: b'SGVsbG8sIFdvcmxkIQ=='"
      ],
      "metadata": {
        "id": "oBRfibtZ2voi"
      },
      "execution_count": null,
      "outputs": []
    },
    {
      "cell_type": "markdown",
      "source": [
        "Decoding Function:\n",
        "1. base64.b64decode(data): Decodes a base64-encoded bytes object back to binary data.\n"
      ],
      "metadata": {
        "id": "WJzMlilR2iZV"
      }
    },
    {
      "cell_type": "code",
      "source": [
        "import base64\n",
        "encoded_data = b'SGVsbG8sIFdvcmxkIQ=='\n",
        "decoded_data = base64.b64decode(encoded_data)\n",
        "print(decoded_data)  # Output: b'Hello, World!'\n"
      ],
      "metadata": {
        "id": "ox8ClZOD4Ncd"
      },
      "execution_count": null,
      "outputs": []
    },
    {
      "cell_type": "markdown",
      "source": [
        "2.base64.urlsafe_b64decode(data): Decodes a URL-safe base64-encoded bytes object back to binary data."
      ],
      "metadata": {
        "id": "8I48mn1Q4Q1j"
      }
    },
    {
      "cell_type": "code",
      "source": [
        "import base64\n",
        "encoded_data = b'SGVsbG8sIFdvcmxkIQ=='\n",
        "decoded_data = base64.urlsafe_b64decode(encoded_data)\n",
        "print(decoded_data)  # Output: b'Hello, World!'\n"
      ],
      "metadata": {
        "id": "bkR2h0y24bGn"
      },
      "execution_count": null,
      "outputs": []
    },
    {
      "cell_type": "markdown",
      "source": [
        "Usage: Base64 encoding is useful in scenarios where binary data needs to be represented as text, such as embedding images in HTML or sending files over email. It is not meant for cryptographic purposes due to the lack of security."
      ],
      "metadata": {
        "id": "v3PBerpq4rf7"
      }
    },
    {
      "cell_type": "markdown",
      "source": [],
      "metadata": {
        "id": "ZhlftOze4s9j"
      }
    }
  ]
}
